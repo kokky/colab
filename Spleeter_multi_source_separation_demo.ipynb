{
  "nbformat": 4,
  "nbformat_minor": 0,
  "metadata": {
    "colab": {
      "name": "Spleeter multi-source separation demo.ipynb",
      "provenance": [],
      "collapsed_sections": [],
      "toc_visible": true,
      "include_colab_link": true
    },
    "kernelspec": {
      "name": "python3",
      "display_name": "Python 3"
    },
    "accelerator": "GPU"
  },
  "cells": [
    {
      "cell_type": "markdown",
      "metadata": {
        "id": "view-in-github",
        "colab_type": "text"
      },
      "source": [
        "<a href=\"https://colab.research.google.com/github/kokky/colab/blob/master/Spleeter_multi_source_separation_demo.ipynb\" target=\"_parent\"><img src=\"https://colab.research.google.com/assets/colab-badge.svg\" alt=\"Open In Colab\"/></a>"
      ]
    },
    {
      "cell_type": "markdown",
      "metadata": {
        "id": "vZS9kDynB7ee",
        "colab_type": "text"
      },
      "source": [
        "## Setup Spleeter"
      ]
    },
    {
      "cell_type": "code",
      "metadata": {
        "id": "w730e0R56tGv",
        "colab_type": "code",
        "outputId": "47070f28-f96d-4a14-d64f-6e1af805ee6a",
        "colab": {
          "base_uri": "https://localhost:8080/",
          "height": 1000
        }
      },
      "source": [
        "!pip install spleeter"
      ],
      "execution_count": 0,
      "outputs": [
        {
          "output_type": "stream",
          "text": [
            "Collecting spleeter\n",
            "  Downloading https://files.pythonhosted.org/packages/67/81/7234f9f5f61b5ec50c346e8bf5a2313008f0ea655a640bbc345a200e3fdb/spleeter-1.4.1.tar.gz\n",
            "Collecting musdb==0.3.1\n",
            "  Downloading https://files.pythonhosted.org/packages/57/bd/98ba16482f610bcfa7fcc212175dc0bbf11976e0bc69319b4204b6dc3aec/musdb-0.3.1-py2.py3-none-any.whl\n",
            "Collecting museval==0.3.0\n",
            "  Downloading https://files.pythonhosted.org/packages/5a/5d/1419271e96537ea973d039818c7f164a150e68867fd216fd591d0a5e43b7/museval-0.3.0-py2.py3-none-any.whl\n",
            "Collecting norbert==0.2.1\n",
            "  Downloading https://files.pythonhosted.org/packages/22/85/1e4f09c84d28b5541a4a8eece320902c4d2fa264dfe51f779548396f0fea/norbert-0.2.1-py2.py3-none-any.whl\n",
            "Collecting pandas==0.25.1\n",
            "\u001b[?25l  Downloading https://files.pythonhosted.org/packages/73/9b/52e228545d14f14bb2a1622e225f38463c8726645165e1cb7dde95bfe6d4/pandas-0.25.1-cp36-cp36m-manylinux1_x86_64.whl (10.5MB)\n",
            "\u001b[K     |████████████████████████████████| 10.5MB 17.5MB/s \n",
            "\u001b[?25hRequirement already satisfied: requests in /usr/local/lib/python3.6/dist-packages (from spleeter) (2.21.0)\n",
            "Collecting tensorflow==1.14.0\n",
            "\u001b[?25l  Downloading https://files.pythonhosted.org/packages/de/f0/96fb2e0412ae9692dbf400e5b04432885f677ad6241c088ccc5fe7724d69/tensorflow-1.14.0-cp36-cp36m-manylinux1_x86_64.whl (109.2MB)\n",
            "\u001b[K     |████████████████████████████████| 109.2MB 79kB/s \n",
            "\u001b[?25hCollecting importlib_resources\n",
            "  Downloading https://files.pythonhosted.org/packages/2f/f7/b4aa02cdd3ee7ebba375969d77c00826aa15c5db84247d23c89522dccbfa/importlib_resources-1.0.2-py2.py3-none-any.whl\n",
            "Collecting pyaml\n",
            "  Downloading https://files.pythonhosted.org/packages/33/1a/936074f3492156693fc9e471269fc5747fa3b7d9d7f8a33af054f6b24066/pyaml-19.4.1-py2.py3-none-any.whl\n",
            "Collecting soundfile>=0.9.0\n",
            "  Downloading https://files.pythonhosted.org/packages/68/64/1191352221e2ec90db7492b4bf0c04fd9d2508de67b3f39cbf093cd6bd86/SoundFile-0.10.2-py2.py3-none-any.whl\n",
            "Requirement already satisfied: tqdm in /usr/local/lib/python3.6/dist-packages (from musdb==0.3.1->spleeter) (4.28.1)\n",
            "Requirement already satisfied: numpy>=1.7 in /usr/local/lib/python3.6/dist-packages (from musdb==0.3.1->spleeter) (1.17.3)\n",
            "Collecting stempeg>=0.1.7\n",
            "\u001b[?25l  Downloading https://files.pythonhosted.org/packages/29/ab/6e7362cbff21c25e99cfc3ef116057a7f9ebe6f429a44038eef82de3479d/stempeg-0.1.8-py3-none-any.whl (509kB)\n",
            "\u001b[K     |████████████████████████████████| 512kB 51.0MB/s \n",
            "\u001b[?25hCollecting simplejson\n",
            "\u001b[?25l  Downloading https://files.pythonhosted.org/packages/e3/24/c35fb1c1c315fc0fffe61ea00d3f88e85469004713dab488dee4f35b0aff/simplejson-3.16.0.tar.gz (81kB)\n",
            "\u001b[K     |████████████████████████████████| 81kB 10.2MB/s \n",
            "\u001b[?25hRequirement already satisfied: jsonschema in /usr/local/lib/python3.6/dist-packages (from museval==0.3.0->spleeter) (2.6.0)\n",
            "Requirement already satisfied: scipy in /usr/local/lib/python3.6/dist-packages (from museval==0.3.0->spleeter) (1.3.1)\n",
            "Requirement already satisfied: python-dateutil>=2.6.1 in /usr/local/lib/python3.6/dist-packages (from pandas==0.25.1->spleeter) (2.6.1)\n",
            "Requirement already satisfied: pytz>=2017.2 in /usr/local/lib/python3.6/dist-packages (from pandas==0.25.1->spleeter) (2018.9)\n",
            "Requirement already satisfied: certifi>=2017.4.17 in /usr/local/lib/python3.6/dist-packages (from requests->spleeter) (2019.9.11)\n",
            "Requirement already satisfied: urllib3<1.25,>=1.21.1 in /usr/local/lib/python3.6/dist-packages (from requests->spleeter) (1.24.3)\n",
            "Requirement already satisfied: chardet<3.1.0,>=3.0.2 in /usr/local/lib/python3.6/dist-packages (from requests->spleeter) (3.0.4)\n",
            "Requirement already satisfied: idna<2.9,>=2.5 in /usr/local/lib/python3.6/dist-packages (from requests->spleeter) (2.8)\n",
            "Requirement already satisfied: keras-applications>=1.0.6 in /usr/local/lib/python3.6/dist-packages (from tensorflow==1.14.0->spleeter) (1.0.8)\n",
            "Collecting tensorflow-estimator<1.15.0rc0,>=1.14.0rc0\n",
            "\u001b[?25l  Downloading https://files.pythonhosted.org/packages/3c/d5/21860a5b11caf0678fbc8319341b0ae21a07156911132e0e71bffed0510d/tensorflow_estimator-1.14.0-py2.py3-none-any.whl (488kB)\n",
            "\u001b[K     |████████████████████████████████| 491kB 41.6MB/s \n",
            "\u001b[?25hRequirement already satisfied: grpcio>=1.8.6 in /usr/local/lib/python3.6/dist-packages (from tensorflow==1.14.0->spleeter) (1.15.0)\n",
            "Requirement already satisfied: termcolor>=1.1.0 in /usr/local/lib/python3.6/dist-packages (from tensorflow==1.14.0->spleeter) (1.1.0)\n",
            "Requirement already satisfied: keras-preprocessing>=1.0.5 in /usr/local/lib/python3.6/dist-packages (from tensorflow==1.14.0->spleeter) (1.1.0)\n",
            "Requirement already satisfied: wheel>=0.26 in /usr/local/lib/python3.6/dist-packages (from tensorflow==1.14.0->spleeter) (0.33.6)\n",
            "Requirement already satisfied: protobuf>=3.6.1 in /usr/local/lib/python3.6/dist-packages (from tensorflow==1.14.0->spleeter) (3.10.0)\n",
            "Requirement already satisfied: six>=1.10.0 in /usr/local/lib/python3.6/dist-packages (from tensorflow==1.14.0->spleeter) (1.12.0)\n",
            "Requirement already satisfied: google-pasta>=0.1.6 in /usr/local/lib/python3.6/dist-packages (from tensorflow==1.14.0->spleeter) (0.1.7)\n",
            "Requirement already satisfied: gast>=0.2.0 in /usr/local/lib/python3.6/dist-packages (from tensorflow==1.14.0->spleeter) (0.2.2)\n",
            "Requirement already satisfied: wrapt>=1.11.1 in /usr/local/lib/python3.6/dist-packages (from tensorflow==1.14.0->spleeter) (1.11.2)\n",
            "Collecting tensorboard<1.15.0,>=1.14.0\n",
            "\u001b[?25l  Downloading https://files.pythonhosted.org/packages/91/2d/2ed263449a078cd9c8a9ba50ebd50123adf1f8cfbea1492f9084169b89d9/tensorboard-1.14.0-py3-none-any.whl (3.1MB)\n",
            "\u001b[K     |████████████████████████████████| 3.2MB 44.1MB/s \n",
            "\u001b[?25hRequirement already satisfied: astor>=0.6.0 in /usr/local/lib/python3.6/dist-packages (from tensorflow==1.14.0->spleeter) (0.8.0)\n",
            "Requirement already satisfied: absl-py>=0.7.0 in /usr/local/lib/python3.6/dist-packages (from tensorflow==1.14.0->spleeter) (0.8.1)\n",
            "Requirement already satisfied: PyYAML in /usr/local/lib/python3.6/dist-packages (from pyaml->musdb==0.3.1->spleeter) (3.13)\n",
            "Requirement already satisfied: cffi>=1.0 in /usr/local/lib/python3.6/dist-packages (from soundfile>=0.9.0->musdb==0.3.1->spleeter) (1.13.1)\n",
            "Requirement already satisfied: h5py in /usr/local/lib/python3.6/dist-packages (from keras-applications>=1.0.6->tensorflow==1.14.0->spleeter) (2.8.0)\n",
            "Requirement already satisfied: setuptools in /usr/local/lib/python3.6/dist-packages (from protobuf>=3.6.1->tensorflow==1.14.0->spleeter) (41.4.0)\n",
            "Requirement already satisfied: markdown>=2.6.8 in /usr/local/lib/python3.6/dist-packages (from tensorboard<1.15.0,>=1.14.0->tensorflow==1.14.0->spleeter) (3.1.1)\n",
            "Requirement already satisfied: werkzeug>=0.11.15 in /usr/local/lib/python3.6/dist-packages (from tensorboard<1.15.0,>=1.14.0->tensorflow==1.14.0->spleeter) (0.16.0)\n",
            "Requirement already satisfied: pycparser in /usr/local/lib/python3.6/dist-packages (from cffi>=1.0->soundfile>=0.9.0->musdb==0.3.1->spleeter) (2.19)\n",
            "Building wheels for collected packages: spleeter, simplejson\n",
            "  Building wheel for spleeter (setup.py) ... \u001b[?25l\u001b[?25hdone\n",
            "  Created wheel for spleeter: filename=spleeter-1.4.1-cp36-none-any.whl size=44685 sha256=f2db069b56293d01d2cf5d9882a84bb680f6ca96677128ec6db3d70ffc1c0fd1\n",
            "  Stored in directory: /root/.cache/pip/wheels/a4/0f/48/49ee373da43abd1d595f0073c3d8d675ee6b5268643b578bd9\n",
            "  Building wheel for simplejson (setup.py) ... \u001b[?25l\u001b[?25hdone\n",
            "  Created wheel for simplejson: filename=simplejson-3.16.0-cp36-cp36m-linux_x86_64.whl size=114016 sha256=5f06e3a9a19a8b59a66f647d1638ffc7e67239df84e8b30bb229b78617e3de2b\n",
            "  Stored in directory: /root/.cache/pip/wheels/5d/1a/1e/0350bb3df3e74215cd91325344cc86c2c691f5306eb4d22c77\n",
            "Successfully built spleeter simplejson\n",
            "Installing collected packages: pyaml, soundfile, stempeg, musdb, simplejson, pandas, museval, norbert, tensorflow-estimator, tensorboard, tensorflow, importlib-resources, spleeter\n",
            "  Found existing installation: pandas 0.25.2\n",
            "    Uninstalling pandas-0.25.2:\n",
            "      Successfully uninstalled pandas-0.25.2\n",
            "  Found existing installation: tensorflow-estimator 1.15.1\n",
            "    Uninstalling tensorflow-estimator-1.15.1:\n",
            "      Successfully uninstalled tensorflow-estimator-1.15.1\n",
            "  Found existing installation: tensorboard 1.15.0\n",
            "    Uninstalling tensorboard-1.15.0:\n",
            "      Successfully uninstalled tensorboard-1.15.0\n",
            "  Found existing installation: tensorflow 1.15.0\n",
            "    Uninstalling tensorflow-1.15.0:\n",
            "      Successfully uninstalled tensorflow-1.15.0\n",
            "Successfully installed importlib-resources-1.0.2 musdb-0.3.1 museval-0.3.0 norbert-0.2.1 pandas-0.25.1 pyaml-19.4.1 simplejson-3.16.0 soundfile-0.10.2 spleeter-1.4.1 stempeg-0.1.8 tensorboard-1.14.0 tensorflow-1.14.0 tensorflow-estimator-1.14.0\n"
          ],
          "name": "stdout"
        },
        {
          "output_type": "display_data",
          "data": {
            "application/vnd.colab-display-data+json": {
              "pip_warning": {
                "packages": [
                  "pandas"
                ]
              }
            }
          },
          "metadata": {
            "tags": []
          }
        }
      ]
    },
    {
      "cell_type": "markdown",
      "metadata": {
        "id": "p7zyTYUIB_be",
        "colab_type": "text"
      },
      "source": [
        "**Note: Restart the runtime once you install all the necessary packages.**"
      ]
    },
    {
      "cell_type": "code",
      "metadata": {
        "id": "8-QaSnbb63VD",
        "colab_type": "code",
        "outputId": "1684aa7c-1918-438a-9592-1eb734dd28c9",
        "colab": {
          "base_uri": "https://localhost:8080/",
          "height": 638
        }
      },
      "source": [
        "# check out the spleeter command list\n",
        "!spleeter separate -h"
      ],
      "execution_count": 0,
      "outputs": [
        {
          "output_type": "stream",
          "text": [
            "usage: python -m spleeter separate [-h] [-a AUDIO_ADAPTER]\n",
            "                                   [-p PARAMS_FILENAME] [--verbose] -i\n",
            "                                   AUDIO_FILENAMES [AUDIO_FILENAMES ...]\n",
            "                                   [-o OUTPUT_PATH] [-n {directory,filename}]\n",
            "                                   [-d MAX_DURATION]\n",
            "                                   [-c {wav,mp3,ogg,m4a,wma,flac}] [-m]\n",
            "\n",
            "optional arguments:\n",
            "  -h, --help            show this help message and exit\n",
            "  -a AUDIO_ADAPTER, --adapter AUDIO_ADAPTER\n",
            "                        Name of the audio adapter to use for audio I/O\n",
            "  -p PARAMS_FILENAME, --params_filename PARAMS_FILENAME\n",
            "                        JSON filename that contains params\n",
            "  --verbose             Shows verbose logs\n",
            "  -i AUDIO_FILENAMES [AUDIO_FILENAMES ...], --audio_filenames AUDIO_FILENAMES [AUDIO_FILENAMES ...]\n",
            "                        List of input audio filenames\n",
            "  -o OUTPUT_PATH, --output_path OUTPUT_PATH\n",
            "                        Path of the output directory to write audio files in\n",
            "  -n {directory,filename}, --output_naming {directory,filename}\n",
            "                        Choice for naming the output base path: \"filename\"\n",
            "                        (use the input filename, i.e /path/to/audio/mix.wav\n",
            "                        will be separated to\n",
            "                        <output_path>/mix/<instument1>.wav,\n",
            "                        <output_path>/mix/<instument2>.wav...) or \"directory\"\n",
            "                        (use the name of the input last level directory, for\n",
            "                        instance /path/to/audio/mix.wav will be separated to\n",
            "                        <output_path>/audio/<instument1>.wav,\n",
            "                        <output_path>/audio/<instument2>.wav)\n",
            "  -d MAX_DURATION, --max_duration MAX_DURATION\n",
            "                        Set a maximum duration for processing audio (only\n",
            "                        separate max_duration first seconds of the input file)\n",
            "  -c {wav,mp3,ogg,m4a,wma,flac}, --audio_codec {wav,mp3,ogg,m4a,wma,flac}\n",
            "                        Audio codec to be used for the separated output\n",
            "  -m, --mwf             Whether to use multichannel Wiener filtering for\n",
            "                        separation\n"
          ],
          "name": "stdout"
        }
      ]
    },
    {
      "cell_type": "code",
      "metadata": {
        "id": "2sS_uMRnfgsG",
        "colab_type": "code",
        "outputId": "eada2943-6cc1-408d-88d2-f94cf5ad2d06",
        "colab": {
          "base_uri": "https://localhost:8080/",
          "height": 214
        }
      },
      "source": [
        "!pip install youtube-dl"
      ],
      "execution_count": 0,
      "outputs": [
        {
          "output_type": "stream",
          "text": [
            "Collecting youtube-dl\n",
            "\u001b[?25l  Downloading https://files.pythonhosted.org/packages/1f/36/c96973f8caef6a6986030954a1da304a11a67ba0fab19ce681eaff4502af/youtube_dl-2019.10.29-py2.py3-none-any.whl (1.8MB)\n",
            "\r\u001b[K     |▏                               | 10kB 18.1MB/s eta 0:00:01\r\u001b[K     |▍                               | 20kB 4.3MB/s eta 0:00:01\r\u001b[K     |▌                               | 30kB 6.2MB/s eta 0:00:01\r\u001b[K     |▊                               | 40kB 4.0MB/s eta 0:00:01\r\u001b[K     |█                               | 51kB 4.8MB/s eta 0:00:01\r\u001b[K     |█                               | 61kB 5.7MB/s eta 0:00:01\r\u001b[K     |█▎                              | 71kB 6.5MB/s eta 0:00:01\r\u001b[K     |█▍                              | 81kB 7.3MB/s eta 0:00:01\r\u001b[K     |█▋                              | 92kB 8.0MB/s eta 0:00:01\r\u001b[K     |█▉                              | 102kB 6.5MB/s eta 0:00:01\r\u001b[K     |██                              | 112kB 6.5MB/s eta 0:00:01\r\u001b[K     |██▏                             | 122kB 6.5MB/s eta 0:00:01\r\u001b[K     |██▍                             | 133kB 6.5MB/s eta 0:00:01\r\u001b[K     |██▌                             | 143kB 6.5MB/s eta 0:00:01\r\u001b[K     |██▊                             | 153kB 6.5MB/s eta 0:00:01\r\u001b[K     |██▉                             | 163kB 6.5MB/s eta 0:00:01\r\u001b[K     |███                             | 174kB 6.5MB/s eta 0:00:01\r\u001b[K     |███▎                            | 184kB 6.5MB/s eta 0:00:01\r\u001b[K     |███▍                            | 194kB 6.5MB/s eta 0:00:01\r\u001b[K     |███▋                            | 204kB 6.5MB/s eta 0:00:01\r\u001b[K     |███▊                            | 215kB 6.5MB/s eta 0:00:01\r\u001b[K     |████                            | 225kB 6.5MB/s eta 0:00:01\r\u001b[K     |████▏                           | 235kB 6.5MB/s eta 0:00:01\r\u001b[K     |████▎                           | 245kB 6.5MB/s eta 0:00:01\r\u001b[K     |████▌                           | 256kB 6.5MB/s eta 0:00:01\r\u001b[K     |████▊                           | 266kB 6.5MB/s eta 0:00:01\r\u001b[K     |████▉                           | 276kB 6.5MB/s eta 0:00:01\r\u001b[K     |█████                           | 286kB 6.5MB/s eta 0:00:01\r\u001b[K     |█████▏                          | 296kB 6.5MB/s eta 0:00:01\r\u001b[K     |█████▍                          | 307kB 6.5MB/s eta 0:00:01\r\u001b[K     |█████▋                          | 317kB 6.5MB/s eta 0:00:01\r\u001b[K     |█████▊                          | 327kB 6.5MB/s eta 0:00:01\r\u001b[K     |██████                          | 337kB 6.5MB/s eta 0:00:01\r\u001b[K     |██████                          | 348kB 6.5MB/s eta 0:00:01\r\u001b[K     |██████▎                         | 358kB 6.5MB/s eta 0:00:01\r\u001b[K     |██████▌                         | 368kB 6.5MB/s eta 0:00:01\r\u001b[K     |██████▋                         | 378kB 6.5MB/s eta 0:00:01\r\u001b[K     |██████▉                         | 389kB 6.5MB/s eta 0:00:01\r\u001b[K     |███████                         | 399kB 6.5MB/s eta 0:00:01\r\u001b[K     |███████▏                        | 409kB 6.5MB/s eta 0:00:01\r\u001b[K     |███████▍                        | 419kB 6.5MB/s eta 0:00:01\r\u001b[K     |███████▌                        | 430kB 6.5MB/s eta 0:00:01\r\u001b[K     |███████▊                        | 440kB 6.5MB/s eta 0:00:01\r\u001b[K     |████████                        | 450kB 6.5MB/s eta 0:00:01\r\u001b[K     |████████                        | 460kB 6.5MB/s eta 0:00:01\r\u001b[K     |████████▎                       | 471kB 6.5MB/s eta 0:00:01\r\u001b[K     |████████▍                       | 481kB 6.5MB/s eta 0:00:01\r\u001b[K     |████████▋                       | 491kB 6.5MB/s eta 0:00:01\r\u001b[K     |████████▉                       | 501kB 6.5MB/s eta 0:00:01\r\u001b[K     |█████████                       | 512kB 6.5MB/s eta 0:00:01\r\u001b[K     |█████████▏                      | 522kB 6.5MB/s eta 0:00:01\r\u001b[K     |█████████▍                      | 532kB 6.5MB/s eta 0:00:01\r\u001b[K     |█████████▌                      | 542kB 6.5MB/s eta 0:00:01\r\u001b[K     |█████████▊                      | 552kB 6.5MB/s eta 0:00:01\r\u001b[K     |█████████▉                      | 563kB 6.5MB/s eta 0:00:01\r\u001b[K     |██████████                      | 573kB 6.5MB/s eta 0:00:01\r\u001b[K     |██████████▎                     | 583kB 6.5MB/s eta 0:00:01\r\u001b[K     |██████████▍                     | 593kB 6.5MB/s eta 0:00:01\r\u001b[K     |██████████▋                     | 604kB 6.5MB/s eta 0:00:01\r\u001b[K     |██████████▉                     | 614kB 6.5MB/s eta 0:00:01\r\u001b[K     |███████████                     | 624kB 6.5MB/s eta 0:00:01\r\u001b[K     |███████████▏                    | 634kB 6.5MB/s eta 0:00:01\r\u001b[K     |███████████▎                    | 645kB 6.5MB/s eta 0:00:01\r\u001b[K     |███████████▌                    | 655kB 6.5MB/s eta 0:00:01\r\u001b[K     |███████████▊                    | 665kB 6.5MB/s eta 0:00:01\r\u001b[K     |███████████▉                    | 675kB 6.5MB/s eta 0:00:01\r\u001b[K     |████████████                    | 686kB 6.5MB/s eta 0:00:01\r\u001b[K     |████████████▏                   | 696kB 6.5MB/s eta 0:00:01\r\u001b[K     |████████████▍                   | 706kB 6.5MB/s eta 0:00:01\r\u001b[K     |████████████▋                   | 716kB 6.5MB/s eta 0:00:01\r\u001b[K     |████████████▊                   | 727kB 6.5MB/s eta 0:00:01\r\u001b[K     |█████████████                   | 737kB 6.5MB/s eta 0:00:01\r\u001b[K     |█████████████▏                  | 747kB 6.5MB/s eta 0:00:01\r\u001b[K     |█████████████▎                  | 757kB 6.5MB/s eta 0:00:01\r\u001b[K     |█████████████▌                  | 768kB 6.5MB/s eta 0:00:01\r\u001b[K     |█████████████▋                  | 778kB 6.5MB/s eta 0:00:01\r\u001b[K     |█████████████▉                  | 788kB 6.5MB/s eta 0:00:01\r\u001b[K     |██████████████                  | 798kB 6.5MB/s eta 0:00:01\r\u001b[K     |██████████████▏                 | 808kB 6.5MB/s eta 0:00:01\r\u001b[K     |██████████████▍                 | 819kB 6.5MB/s eta 0:00:01\r\u001b[K     |██████████████▌                 | 829kB 6.5MB/s eta 0:00:01\r\u001b[K     |██████████████▊                 | 839kB 6.5MB/s eta 0:00:01\r\u001b[K     |███████████████                 | 849kB 6.5MB/s eta 0:00:01\r\u001b[K     |███████████████                 | 860kB 6.5MB/s eta 0:00:01\r\u001b[K     |███████████████▎                | 870kB 6.5MB/s eta 0:00:01\r\u001b[K     |███████████████▌                | 880kB 6.5MB/s eta 0:00:01\r\u001b[K     |███████████████▋                | 890kB 6.5MB/s eta 0:00:01\r\u001b[K     |███████████████▉                | 901kB 6.5MB/s eta 0:00:01\r\u001b[K     |████████████████                | 911kB 6.5MB/s eta 0:00:01\r\u001b[K     |████████████████▏               | 921kB 6.5MB/s eta 0:00:01\r\u001b[K     |████████████████▍               | 931kB 6.5MB/s eta 0:00:01\r\u001b[K     |████████████████▌               | 942kB 6.5MB/s eta 0:00:01\r\u001b[K     |████████████████▊               | 952kB 6.5MB/s eta 0:00:01\r\u001b[K     |████████████████▉               | 962kB 6.5MB/s eta 0:00:01\r\u001b[K     |█████████████████               | 972kB 6.5MB/s eta 0:00:01\r\u001b[K     |█████████████████▎              | 983kB 6.5MB/s eta 0:00:01\r\u001b[K     |█████████████████▍              | 993kB 6.5MB/s eta 0:00:01\r\u001b[K     |█████████████████▋              | 1.0MB 6.5MB/s eta 0:00:01\r\u001b[K     |█████████████████▉              | 1.0MB 6.5MB/s eta 0:00:01\r\u001b[K     |██████████████████              | 1.0MB 6.5MB/s eta 0:00:01\r\u001b[K     |██████████████████▏             | 1.0MB 6.5MB/s eta 0:00:01\r\u001b[K     |██████████████████▎             | 1.0MB 6.5MB/s eta 0:00:01\r\u001b[K     |██████████████████▌             | 1.1MB 6.5MB/s eta 0:00:01\r\u001b[K     |██████████████████▊             | 1.1MB 6.5MB/s eta 0:00:01\r\u001b[K     |██████████████████▉             | 1.1MB 6.5MB/s eta 0:00:01\r\u001b[K     |███████████████████             | 1.1MB 6.5MB/s eta 0:00:01\r\u001b[K     |███████████████████▏            | 1.1MB 6.5MB/s eta 0:00:01\r\u001b[K     |███████████████████▍            | 1.1MB 6.5MB/s eta 0:00:01\r\u001b[K     |███████████████████▋            | 1.1MB 6.5MB/s eta 0:00:01\r\u001b[K     |███████████████████▊            | 1.1MB 6.5MB/s eta 0:00:01\r\u001b[K     |████████████████████            | 1.1MB 6.5MB/s eta 0:00:01\r\u001b[K     |████████████████████▏           | 1.1MB 6.5MB/s eta 0:00:01\r\u001b[K     |████████████████████▎           | 1.2MB 6.5MB/s eta 0:00:01\r\u001b[K     |████████████████████▌           | 1.2MB 6.5MB/s eta 0:00:01\r\u001b[K     |████████████████████▋           | 1.2MB 6.5MB/s eta 0:00:01\r\u001b[K     |████████████████████▉           | 1.2MB 6.5MB/s eta 0:00:01\r\u001b[K     |█████████████████████           | 1.2MB 6.5MB/s eta 0:00:01\r\u001b[K     |█████████████████████▏          | 1.2MB 6.5MB/s eta 0:00:01\r\u001b[K     |█████████████████████▍          | 1.2MB 6.5MB/s eta 0:00:01\r\u001b[K     |█████████████████████▋          | 1.2MB 6.5MB/s eta 0:00:01\r\u001b[K     |█████████████████████▊          | 1.2MB 6.5MB/s eta 0:00:01\r\u001b[K     |██████████████████████          | 1.2MB 6.5MB/s eta 0:00:01\r\u001b[K     |██████████████████████          | 1.3MB 6.5MB/s eta 0:00:01\r\u001b[K     |██████████████████████▎         | 1.3MB 6.5MB/s eta 0:00:01\r\u001b[K     |██████████████████████▌         | 1.3MB 6.5MB/s eta 0:00:01\r\u001b[K     |██████████████████████▋         | 1.3MB 6.5MB/s eta 0:00:01\r\u001b[K     |██████████████████████▉         | 1.3MB 6.5MB/s eta 0:00:01\r\u001b[K     |███████████████████████         | 1.3MB 6.5MB/s eta 0:00:01\r\u001b[K     |███████████████████████▏        | 1.3MB 6.5MB/s eta 0:00:01\r\u001b[K     |███████████████████████▍        | 1.3MB 6.5MB/s eta 0:00:01\r\u001b[K     |███████████████████████▌        | 1.3MB 6.5MB/s eta 0:00:01\r\u001b[K     |███████████████████████▊        | 1.4MB 6.5MB/s eta 0:00:01\r\u001b[K     |████████████████████████        | 1.4MB 6.5MB/s eta 0:00:01\r\u001b[K     |████████████████████████        | 1.4MB 6.5MB/s eta 0:00:01\r\u001b[K     |████████████████████████▎       | 1.4MB 6.5MB/s eta 0:00:01\r\u001b[K     |████████████████████████▍       | 1.4MB 6.5MB/s eta 0:00:01\r\u001b[K     |████████████████████████▋       | 1.4MB 6.5MB/s eta 0:00:01\r\u001b[K     |████████████████████████▉       | 1.4MB 6.5MB/s eta 0:00:01\r\u001b[K     |█████████████████████████       | 1.4MB 6.5MB/s eta 0:00:01\r\u001b[K     |█████████████████████████▏      | 1.4MB 6.5MB/s eta 0:00:01\r\u001b[K     |█████████████████████████▎      | 1.4MB 6.5MB/s eta 0:00:01\r\u001b[K     |█████████████████████████▌      | 1.5MB 6.5MB/s eta 0:00:01\r\u001b[K     |█████████████████████████▊      | 1.5MB 6.5MB/s eta 0:00:01\r\u001b[K     |█████████████████████████▉      | 1.5MB 6.5MB/s eta 0:00:01\r\u001b[K     |██████████████████████████      | 1.5MB 6.5MB/s eta 0:00:01\r\u001b[K     |██████████████████████████▎     | 1.5MB 6.5MB/s eta 0:00:01\r\u001b[K     |██████████████████████████▍     | 1.5MB 6.5MB/s eta 0:00:01\r\u001b[K     |██████████████████████████▋     | 1.5MB 6.5MB/s eta 0:00:01\r\u001b[K     |██████████████████████████▊     | 1.5MB 6.5MB/s eta 0:00:01\r\u001b[K     |███████████████████████████     | 1.5MB 6.5MB/s eta 0:00:01\r\u001b[K     |███████████████████████████▏    | 1.5MB 6.5MB/s eta 0:00:01\r\u001b[K     |███████████████████████████▎    | 1.6MB 6.5MB/s eta 0:00:01\r\u001b[K     |███████████████████████████▌    | 1.6MB 6.5MB/s eta 0:00:01\r\u001b[K     |███████████████████████████▋    | 1.6MB 6.5MB/s eta 0:00:01\r\u001b[K     |███████████████████████████▉    | 1.6MB 6.5MB/s eta 0:00:01\r\u001b[K     |████████████████████████████    | 1.6MB 6.5MB/s eta 0:00:01\r\u001b[K     |████████████████████████████▏   | 1.6MB 6.5MB/s eta 0:00:01\r\u001b[K     |████████████████████████████▍   | 1.6MB 6.5MB/s eta 0:00:01\r\u001b[K     |████████████████████████████▋   | 1.6MB 6.5MB/s eta 0:00:01\r\u001b[K     |████████████████████████████▊   | 1.6MB 6.5MB/s eta 0:00:01\r\u001b[K     |█████████████████████████████   | 1.6MB 6.5MB/s eta 0:00:01\r\u001b[K     |█████████████████████████████   | 1.7MB 6.5MB/s eta 0:00:01\r\u001b[K     |█████████████████████████████▎  | 1.7MB 6.5MB/s eta 0:00:01\r\u001b[K     |█████████████████████████████▌  | 1.7MB 6.5MB/s eta 0:00:01\r\u001b[K     |█████████████████████████████▋  | 1.7MB 6.5MB/s eta 0:00:01\r\u001b[K     |█████████████████████████████▉  | 1.7MB 6.5MB/s eta 0:00:01\r\u001b[K     |██████████████████████████████  | 1.7MB 6.5MB/s eta 0:00:01\r\u001b[K     |██████████████████████████████▏ | 1.7MB 6.5MB/s eta 0:00:01\r\u001b[K     |██████████████████████████████▍ | 1.7MB 6.5MB/s eta 0:00:01\r\u001b[K     |██████████████████████████████▌ | 1.7MB 6.5MB/s eta 0:00:01\r\u001b[K     |██████████████████████████████▊ | 1.8MB 6.5MB/s eta 0:00:01\r\u001b[K     |███████████████████████████████ | 1.8MB 6.5MB/s eta 0:00:01\r\u001b[K     |███████████████████████████████ | 1.8MB 6.5MB/s eta 0:00:01\r\u001b[K     |███████████████████████████████▎| 1.8MB 6.5MB/s eta 0:00:01\r\u001b[K     |███████████████████████████████▍| 1.8MB 6.5MB/s eta 0:00:01\r\u001b[K     |███████████████████████████████▋| 1.8MB 6.5MB/s eta 0:00:01\r\u001b[K     |███████████████████████████████▉| 1.8MB 6.5MB/s eta 0:00:01\r\u001b[K     |████████████████████████████████| 1.8MB 6.5MB/s eta 0:00:01\r\u001b[K     |████████████████████████████████| 1.8MB 6.5MB/s \n",
            "\u001b[?25hInstalling collected packages: youtube-dl\n",
            "Successfully installed youtube-dl-2019.10.29\n",
            "Reading package lists... Done\n",
            "Building dependency tree       \n",
            "Reading state information... Done\n",
            "ffmpeg is already the newest version (7:3.4.6-0ubuntu0.18.04.1).\n",
            "0 upgraded, 0 newly installed, 0 to remove and 28 not upgraded.\n"
          ],
          "name": "stdout"
        }
      ]
    },
    {
      "cell_type": "code",
      "metadata": {
        "id": "llaWU9MQfmU4",
        "colab_type": "code",
        "outputId": "0ee092c3-cf40-45b8-d873-e06aaaf13478",
        "colab": {
          "base_uri": "https://localhost:8080/",
          "height": 123
        }
      },
      "source": [
        "!youtube-dl --extract-audio --audio-format mp3 --output \"audio_sample.%(ext)s\" https://www.youtube.com/watch?v=3FdUdvajOp0"
      ],
      "execution_count": 0,
      "outputs": [
        {
          "output_type": "stream",
          "text": [
            "[youtube] 3FdUdvajOp0: Downloading webpage\n",
            "[youtube] 3FdUdvajOp0: Downloading video info webpage\n",
            "[download] Destination: audio_sample.webm\n",
            "\u001b[K[download] 100% of 3.65MiB in 00:00\n",
            "[ffmpeg] Destination: audio_sample.mp3\n",
            "Deleting original file audio_sample.webm (pass -k to keep)\n"
          ],
          "name": "stdout"
        }
      ]
    },
    {
      "cell_type": "markdown",
      "metadata": {
        "id": "OfoIMoz0BRzH",
        "colab_type": "text"
      },
      "source": [
        "## Use the pretrained 2 stems (vocals / accompaniment) model"
      ]
    },
    {
      "cell_type": "code",
      "metadata": {
        "id": "CSaRE3FJBtmx",
        "colab_type": "code",
        "outputId": "ebcb3870-39fb-492a-ed62-bcc810282cd5",
        "colab": {
          "base_uri": "https://localhost:8080/",
          "height": 552
        }
      },
      "source": [
        "!spleeter separate -i audio_sample.mp3 -o audio_output_2stems -p spleeter:2stems"
      ],
      "execution_count": 0,
      "outputs": [
        {
          "output_type": "stream",
          "text": [
            "INFO:tensorflow:Downloading model archive https://github.com/deezer/spleeter/releases/download/v1.4.0/2stems.tar.gz\n",
            "INFO:tensorflow:Using config: {'_model_dir': 'pretrained_models/2stems', '_tf_random_seed': None, '_save_summary_steps': 100, '_save_checkpoints_steps': None, '_save_checkpoints_secs': 600, '_session_config': gpu_options {\n",
            "  per_process_gpu_memory_fraction: 0.7\n",
            "}\n",
            ", '_keep_checkpoint_max': 5, '_keep_checkpoint_every_n_hours': 10000, '_log_step_count_steps': 100, '_train_distribute': None, '_device_fn': None, '_protocol': None, '_eval_distribute': None, '_experimental_distribute': None, '_experimental_max_worker_delay_secs': None, '_service': None, '_cluster_spec': <tensorflow.python.training.server_lib.ClusterSpec object at 0x7f74f972eda0>, '_task_type': 'worker', '_task_id': 0, '_global_id_in_cluster': 0, '_master': '', '_evaluation_master': '', '_is_chief': True, '_num_ps_replicas': 0, '_num_worker_replicas': 1}\n",
            "INFO:tensorflow:Calling model_fn.\n",
            "WARNING:tensorflow:From /usr/local/lib/python3.6/dist-packages/spleeter/model/functions/unet.py:29: The name tf.keras.initializers.he_uniform is deprecated. Please use tf.compat.v1.keras.initializers.he_uniform instead.\n",
            "\n",
            "INFO:tensorflow:Apply unet for vocals_spectrogram\n",
            "INFO:tensorflow:Apply unet for accompaniment_spectrogram\n",
            "INFO:tensorflow:Done calling model_fn.\n",
            "WARNING:tensorflow:From /usr/local/lib/python3.6/dist-packages/tensorflow/python/ops/array_ops.py:1354: add_dispatch_support.<locals>.wrapper (from tensorflow.python.ops.array_ops) is deprecated and will be removed in a future version.\n",
            "Instructions for updating:\n",
            "Use tf.where in 2.0, which has the same broadcast rule as np.where\n",
            "INFO:tensorflow:Graph was finalized.\n",
            "WARNING:tensorflow:From /usr/local/lib/python3.6/dist-packages/tensorflow/python/training/saver.py:1276: checkpoint_exists (from tensorflow.python.training.checkpoint_management) is deprecated and will be removed in a future version.\n",
            "Instructions for updating:\n",
            "Use standard file APIs to check for files with this prefix.\n",
            "INFO:tensorflow:Restoring parameters from pretrained_models/2stems/model\n",
            "INFO:tensorflow:Running local_init_op.\n",
            "INFO:tensorflow:Done running local_init_op.\n",
            "WARNING:tensorflow:The dtype of the watched tensor must be floating (e.g. tf.float32), got tf.string\n",
            "WARNING:tensorflow:The dtype of the watched tensor must be floating (e.g. tf.float32), got tf.int32\n",
            "WARNING:tensorflow:The dtype of the watched tensor must be floating (e.g. tf.float32), got tf.string\n",
            "INFO:tensorflow:Loading audio b'audio_sample.mp3' from 0.0 to 600.0\n",
            "tcmalloc: large alloc 1258348544 bytes == 0xa944a000 @  0x7f75352561e7 0x7f7522f10804 0x7f752511ce34 0x7f75257531cb 0x7f7525754fac 0x7f752577ff81 0x7f75257851da 0x7f7525785b11 0x7f751ed59d94 0x7f751ed4c050 0x7f751edf76d4 0x7f751edf6544 0x7f7533b389e0 0x7f7534c1a6db 0x7f7534f5388f\n",
            "tcmalloc: large alloc 1258348544 bytes == 0xf44f8000 @  0x7f75352561e7 0x7f7522f10804 0x7f752511ce34 0x7f75257531cb 0x7f7525754fac 0x7f752577ff81 0x7f75257851da 0x7f7525785b11 0x7f751ed59d94 0x7f751ed4c050 0x7f751edf76d4 0x7f751edf6544 0x7f7533b389e0 0x7f7534c1a6db 0x7f7534f5388f\n",
            "INFO:tensorflow:File audio_output_2stems/audio_sample/vocals.wav written\n",
            "INFO:tensorflow:File audio_output_2stems/audio_sample/accompaniment.wav written\n"
          ],
          "name": "stdout"
        }
      ]
    },
    {
      "cell_type": "code",
      "metadata": {
        "id": "O2_-vuRXgluo",
        "colab_type": "code",
        "colab": {}
      },
      "source": [
        "!pip install magic-wormhole"
      ],
      "execution_count": 0,
      "outputs": []
    },
    {
      "cell_type": "code",
      "metadata": {
        "id": "OwKMrwP1gbBV",
        "colab_type": "code",
        "outputId": "18479a94-a95d-49c3-e8e3-6485d3f18606",
        "colab": {
          "base_uri": "https://localhost:8080/",
          "height": 712
        }
      },
      "source": [
        "\n",
        "!wormhole send audio_output_2stems/audio_sample/vocals.wav"
      ],
      "execution_count": 0,
      "outputs": [
        {
          "output_type": "stream",
          "text": [
            "Requirement already satisfied: magic-wormhole in /usr/local/lib/python3.6/dist-packages (0.11.2)\n",
            "Requirement already satisfied: automat in /usr/local/lib/python3.6/dist-packages (from magic-wormhole) (0.8.0)\n",
            "Requirement already satisfied: humanize in /usr/local/lib/python3.6/dist-packages (from magic-wormhole) (0.5.1)\n",
            "Requirement already satisfied: tqdm>=4.13.0 in /usr/local/lib/python3.6/dist-packages (from magic-wormhole) (4.28.1)\n",
            "Requirement already satisfied: pynacl in /usr/local/lib/python3.6/dist-packages (from magic-wormhole) (1.3.0)\n",
            "Requirement already satisfied: autobahn[twisted]>=0.14.1 in /usr/local/lib/python3.6/dist-packages (from magic-wormhole) (19.10.1)\n",
            "Requirement already satisfied: click in /usr/local/lib/python3.6/dist-packages (from magic-wormhole) (7.0)\n",
            "Requirement already satisfied: twisted[tls]>=17.5.0 in /usr/local/lib/python3.6/dist-packages (from magic-wormhole) (19.7.0)\n",
            "Requirement already satisfied: hkdf in /usr/local/lib/python3.6/dist-packages (from magic-wormhole) (0.0.3)\n",
            "Requirement already satisfied: attrs>=16.3.0 in /usr/local/lib/python3.6/dist-packages (from magic-wormhole) (19.3.0)\n",
            "Requirement already satisfied: txtorcon>=18.0.2 in /usr/local/lib/python3.6/dist-packages (from magic-wormhole) (19.1.0)\n",
            "Requirement already satisfied: six in /usr/local/lib/python3.6/dist-packages (from magic-wormhole) (1.12.0)\n",
            "Requirement already satisfied: spake2==0.8 in /usr/local/lib/python3.6/dist-packages (from magic-wormhole) (0.8)\n",
            "Requirement already satisfied: cffi>=1.4.1 in /usr/local/lib/python3.6/dist-packages (from pynacl->magic-wormhole) (1.13.1)\n",
            "Requirement already satisfied: cryptography>=2.7 in /usr/local/lib/python3.6/dist-packages (from autobahn[twisted]>=0.14.1->magic-wormhole) (2.8)\n",
            "Requirement already satisfied: txaio>=18.8.1 in /usr/local/lib/python3.6/dist-packages (from autobahn[twisted]>=0.14.1->magic-wormhole) (18.8.1)\n",
            "Requirement already satisfied: zope.interface>=3.6.0; extra == \"twisted\" in /usr/local/lib/python3.6/dist-packages (from autobahn[twisted]>=0.14.1->magic-wormhole) (4.6.0)\n",
            "Requirement already satisfied: incremental>=16.10.1 in /usr/local/lib/python3.6/dist-packages (from twisted[tls]>=17.5.0->magic-wormhole) (17.5.0)\n",
            "Requirement already satisfied: hyperlink>=17.1.1 in /usr/local/lib/python3.6/dist-packages (from twisted[tls]>=17.5.0->magic-wormhole) (19.0.0)\n",
            "Requirement already satisfied: constantly>=15.1 in /usr/local/lib/python3.6/dist-packages (from twisted[tls]>=17.5.0->magic-wormhole) (15.1.0)\n",
            "Requirement already satisfied: PyHamcrest>=1.9.0 in /usr/local/lib/python3.6/dist-packages (from twisted[tls]>=17.5.0->magic-wormhole) (1.9.0)\n",
            "Requirement already satisfied: pyopenssl>=16.0.0; extra == \"tls\" in /usr/local/lib/python3.6/dist-packages (from twisted[tls]>=17.5.0->magic-wormhole) (19.0.0)\n",
            "Requirement already satisfied: idna!=2.3,>=0.6; extra == \"tls\" in /usr/local/lib/python3.6/dist-packages (from twisted[tls]>=17.5.0->magic-wormhole) (2.8)\n",
            "Requirement already satisfied: service-identity>=18.1.0; extra == \"tls\" in /usr/local/lib/python3.6/dist-packages (from twisted[tls]>=17.5.0->magic-wormhole) (18.1.0)\n",
            "Requirement already satisfied: pycparser in /usr/local/lib/python3.6/dist-packages (from cffi>=1.4.1->pynacl->magic-wormhole) (2.19)\n",
            "Requirement already satisfied: setuptools in /usr/local/lib/python3.6/dist-packages (from zope.interface>=3.6.0; extra == \"twisted\"->autobahn[twisted]>=0.14.1->magic-wormhole) (41.4.0)\n",
            "Requirement already satisfied: pyasn1-modules in /usr/local/lib/python3.6/dist-packages (from service-identity>=18.1.0; extra == \"tls\"->twisted[tls]>=17.5.0->magic-wormhole) (0.2.7)\n",
            "Requirement already satisfied: pyasn1 in /usr/local/lib/python3.6/dist-packages (from service-identity>=18.1.0; extra == \"tls\"->twisted[tls]>=17.5.0->magic-wormhole) (0.4.7)\n",
            "Sending 50.1 MB file named 'vocals.wav'\n",
            "Wormhole code is: 8-souvenir-rebirth\n",
            "On the other computer, please run:\n",
            "\n",
            "wormhole receive 8-souvenir-rebirth\n",
            "\n",
            "Sending (->relay:tcp:transit.magic-wormhole.io:4001)..\n",
            "100% 50.1M/50.1M [00:11<00:00, 4.29MB/s]\n",
            "File sent.. waiting for confirmation\n",
            "Confirmation received. Transfer complete.\n"
          ],
          "name": "stdout"
        }
      ]
    },
    {
      "cell_type": "code",
      "metadata": {
        "id": "REjIX86fg7d0",
        "colab_type": "code",
        "outputId": "85781591-b5c9-4380-fa22-deba15a9bb3f",
        "colab": {
          "base_uri": "https://localhost:8080/",
          "height": 212
        }
      },
      "source": [
        "\n",
        "!wormhole send audio_output_5stems"
      ],
      "execution_count": 0,
      "outputs": [
        {
          "output_type": "stream",
          "text": [
            "Building zipfile..\n",
            "Sending directory (160.1 MB compressed) named 'audio_output_5stems'\n",
            "Wormhole code is: 7-yesteryear-spaniel\n",
            "On the other computer, please run:\n",
            "\n",
            "wormhole receive 7-yesteryear-spaniel\n",
            "\n",
            "Sending (->relay:tcp:transit.magic-wormhole.io:4001)..\n",
            "100% 160M/160M [00:08<00:00, 19.7MB/s]\n",
            "File sent.. waiting for confirmation\n",
            "Confirmation received. Transfer complete.\n"
          ],
          "name": "stdout"
        }
      ]
    },
    {
      "cell_type": "markdown",
      "metadata": {
        "id": "PvxcQP7RBR2t",
        "colab_type": "text"
      },
      "source": [
        "## Use the pretrained 4 stems (vocals / bass / drums / other ) model"
      ]
    },
    {
      "cell_type": "code",
      "metadata": {
        "id": "V7XJv7oJBxrU",
        "colab_type": "code",
        "outputId": "15b94d57-e403-4ea9-de5c-2e295519b412",
        "colab": {
          "base_uri": "https://localhost:8080/",
          "height": 581
        }
      },
      "source": [
        "!spleeter separate -i audio_sample.mp3 -o audio_output_4stems -p spleeter:4stems"
      ],
      "execution_count": 0,
      "outputs": [
        {
          "output_type": "stream",
          "text": [
            "INFO:tensorflow:Downloading model archive https://github.com/deezer/spleeter/releases/download/v1.4.0/4stems.tar.gz\n",
            "INFO:tensorflow:Using config: {'_model_dir': 'pretrained_models/4stems', '_tf_random_seed': None, '_save_summary_steps': 100, '_save_checkpoints_steps': None, '_save_checkpoints_secs': 600, '_session_config': gpu_options {\n",
            "  per_process_gpu_memory_fraction: 0.7\n",
            "}\n",
            ", '_keep_checkpoint_max': 5, '_keep_checkpoint_every_n_hours': 10000, '_log_step_count_steps': 100, '_train_distribute': None, '_device_fn': None, '_protocol': None, '_eval_distribute': None, '_experimental_distribute': None, '_experimental_max_worker_delay_secs': None, '_service': None, '_cluster_spec': <tensorflow.python.training.server_lib.ClusterSpec object at 0x7fbd703aae48>, '_task_type': 'worker', '_task_id': 0, '_global_id_in_cluster': 0, '_master': '', '_evaluation_master': '', '_is_chief': True, '_num_ps_replicas': 0, '_num_worker_replicas': 1}\n",
            "INFO:tensorflow:Calling model_fn.\n",
            "WARNING:tensorflow:From /usr/local/lib/python3.6/dist-packages/spleeter/model/functions/unet.py:29: The name tf.keras.initializers.he_uniform is deprecated. Please use tf.compat.v1.keras.initializers.he_uniform instead.\n",
            "\n",
            "INFO:tensorflow:Apply unet for vocals_spectrogram\n",
            "INFO:tensorflow:Apply unet for drums_spectrogram\n",
            "INFO:tensorflow:Apply unet for bass_spectrogram\n",
            "INFO:tensorflow:Apply unet for other_spectrogram\n",
            "INFO:tensorflow:Done calling model_fn.\n",
            "WARNING:tensorflow:From /usr/local/lib/python3.6/dist-packages/tensorflow/python/ops/array_ops.py:1354: add_dispatch_support.<locals>.wrapper (from tensorflow.python.ops.array_ops) is deprecated and will be removed in a future version.\n",
            "Instructions for updating:\n",
            "Use tf.where in 2.0, which has the same broadcast rule as np.where\n",
            "INFO:tensorflow:Graph was finalized.\n",
            "WARNING:tensorflow:From /usr/local/lib/python3.6/dist-packages/tensorflow/python/training/saver.py:1276: checkpoint_exists (from tensorflow.python.training.checkpoint_management) is deprecated and will be removed in a future version.\n",
            "Instructions for updating:\n",
            "Use standard file APIs to check for files with this prefix.\n",
            "INFO:tensorflow:Restoring parameters from pretrained_models/4stems/model\n",
            "INFO:tensorflow:Running local_init_op.\n",
            "INFO:tensorflow:Done running local_init_op.\n",
            "WARNING:tensorflow:The dtype of the watched tensor must be floating (e.g. tf.float32), got tf.string\n",
            "WARNING:tensorflow:The dtype of the watched tensor must be floating (e.g. tf.float32), got tf.int32\n",
            "WARNING:tensorflow:The dtype of the watched tensor must be floating (e.g. tf.float32), got tf.string\n",
            "INFO:tensorflow:Loading audio b'audio_sample.mp3' from 0.0 to 600.0\n",
            "tcmalloc: large alloc 1101062144 bytes == 0x7a90a000 @  0x7fbdabed21e7 0x7fbd99b8c804 0x7fbd9bd98e34 0x7fbd9c3cf1cb 0x7fbd9c3d0fac 0x7fbd9c3fbf81 0x7fbd9c4011da 0x7fbd9c401b11 0x7fbd959d5d94 0x7fbd959c8050 0x7fbd95a736d4 0x7fbd95a72544 0x7fbdaa7b49e0 0x7fbdab8966db 0x7fbdabbcf88f\n",
            "INFO:tensorflow:File audio_output/audio_sample/vocals.wav written\n",
            "INFO:tensorflow:File audio_output/audio_sample/drums.wav written\n",
            "INFO:tensorflow:File audio_output/audio_sample/bass.wav written\n",
            "INFO:tensorflow:File audio_output/audio_sample/other.wav written\n"
          ],
          "name": "stdout"
        }
      ]
    },
    {
      "cell_type": "markdown",
      "metadata": {
        "id": "WIUhbxZuBENs",
        "colab_type": "text"
      },
      "source": [
        "## Use the pretrained 5 stems (vocals / bass / drums / piano / other) model"
      ]
    },
    {
      "cell_type": "code",
      "metadata": {
        "id": "UP8IqqO463zn",
        "colab_type": "code",
        "outputId": "f12b8973-2eea-4de8-9e7d-ad14f5d527a4",
        "colab": {
          "base_uri": "https://localhost:8080/",
          "height": 605
        }
      },
      "source": [
        "!rm -rf audio_output_5stems\n",
        "!spleeter separate -i audio_sample.mp3 -o audio_output_5stems -p spleeter:5stems"
      ],
      "execution_count": 0,
      "outputs": [
        {
          "output_type": "stream",
          "text": [
            "INFO:tensorflow:Using config: {'_model_dir': 'pretrained_models/5stems', '_tf_random_seed': None, '_save_summary_steps': 100, '_save_checkpoints_steps': None, '_save_checkpoints_secs': 600, '_session_config': gpu_options {\n",
            "  per_process_gpu_memory_fraction: 0.7\n",
            "}\n",
            ", '_keep_checkpoint_max': 5, '_keep_checkpoint_every_n_hours': 10000, '_log_step_count_steps': 100, '_train_distribute': None, '_device_fn': None, '_protocol': None, '_eval_distribute': None, '_experimental_distribute': None, '_experimental_max_worker_delay_secs': None, '_service': None, '_cluster_spec': <tensorflow.python.training.server_lib.ClusterSpec object at 0x7f49ed6abda0>, '_task_type': 'worker', '_task_id': 0, '_global_id_in_cluster': 0, '_master': '', '_evaluation_master': '', '_is_chief': True, '_num_ps_replicas': 0, '_num_worker_replicas': 1}\n",
            "INFO:tensorflow:Calling model_fn.\n",
            "WARNING:tensorflow:From /usr/local/lib/python3.6/dist-packages/spleeter/model/functions/unet.py:29: The name tf.keras.initializers.he_uniform is deprecated. Please use tf.compat.v1.keras.initializers.he_uniform instead.\n",
            "\n",
            "INFO:tensorflow:Apply unet for vocals_spectrogram\n",
            "INFO:tensorflow:Apply unet for piano_spectrogram\n",
            "INFO:tensorflow:Apply unet for drums_spectrogram\n",
            "INFO:tensorflow:Apply unet for bass_spectrogram\n",
            "INFO:tensorflow:Apply unet for other_spectrogram\n",
            "INFO:tensorflow:Done calling model_fn.\n",
            "WARNING:tensorflow:From /usr/local/lib/python3.6/dist-packages/tensorflow/python/ops/array_ops.py:1354: add_dispatch_support.<locals>.wrapper (from tensorflow.python.ops.array_ops) is deprecated and will be removed in a future version.\n",
            "Instructions for updating:\n",
            "Use tf.where in 2.0, which has the same broadcast rule as np.where\n",
            "INFO:tensorflow:Graph was finalized.\n",
            "WARNING:tensorflow:From /usr/local/lib/python3.6/dist-packages/tensorflow/python/training/saver.py:1276: checkpoint_exists (from tensorflow.python.training.checkpoint_management) is deprecated and will be removed in a future version.\n",
            "Instructions for updating:\n",
            "Use standard file APIs to check for files with this prefix.\n",
            "INFO:tensorflow:Restoring parameters from pretrained_models/5stems/model\n",
            "INFO:tensorflow:Running local_init_op.\n",
            "INFO:tensorflow:Done running local_init_op.\n",
            "WARNING:tensorflow:The dtype of the watched tensor must be floating (e.g. tf.float32), got tf.string\n",
            "WARNING:tensorflow:The dtype of the watched tensor must be floating (e.g. tf.float32), got tf.int32\n",
            "WARNING:tensorflow:The dtype of the watched tensor must be floating (e.g. tf.float32), got tf.string\n",
            "INFO:tensorflow:Loading audio b'audio_sample.mp3' from 0.0 to 600.0\n",
            "INFO:tensorflow:File audio_output_5stems/audio_sample/vocals.wav written\n",
            "INFO:tensorflow:File audio_output_5stems/audio_sample/piano.wav written\n",
            "INFO:tensorflow:File audio_output_5stems/audio_sample/drums.wav written\n",
            "INFO:tensorflow:File audio_output_5stems/audio_sample/bass.wav written\n",
            "INFO:tensorflow:File audio_output_5stems/audio_sample/other.wav written\n"
          ],
          "name": "stdout"
        }
      ]
    },
    {
      "cell_type": "code",
      "metadata": {
        "id": "WANBa3C2632u",
        "colab_type": "code",
        "outputId": "01a05e16-c067-4a5b-dd2e-2d71294f179d",
        "colab": {
          "base_uri": "https://localhost:8080/",
          "height": 60
        }
      },
      "source": [
        "!wormhole send audio_output_5stems"
      ],
      "execution_count": 0,
      "outputs": [
        {
          "output_type": "stream",
          "text": [
            "Building zipfile..\n"
          ],
          "name": "stdout"
        }
      ]
    },
    {
      "cell_type": "code",
      "metadata": {
        "id": "W7JpxmTg635k",
        "colab_type": "code",
        "colab": {}
      },
      "source": [
        ""
      ],
      "execution_count": 0,
      "outputs": []
    },
    {
      "cell_type": "code",
      "metadata": {
        "id": "dYDbbpAW637-",
        "colab_type": "code",
        "colab": {}
      },
      "source": [
        ""
      ],
      "execution_count": 0,
      "outputs": []
    }
  ]
}